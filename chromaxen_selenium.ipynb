{
 "cells": [
  {
   "cell_type": "code",
   "execution_count": 202,
   "metadata": {},
   "outputs": [],
   "source": [
    "from selenium import webdriver\n",
    "from selenium.webdriver.support import expected_conditions as EC\n",
    "from selenium.webdriver.common.by import By\n",
    "from selenium.webdriver.support.wait import WebDriverWait\n",
    "from selenium.webdriver.common.action_chains import ActionChains\n",
    "\n",
    "from time import sleep\n",
    "SLEEP_TIME = 2\n",
    "\n",
    "url = \"http://dweeb.ninja/chromaxen/#game\"\n",
    "WAIT_TIME = 10\n",
    "\n",
    "web_driver = webdriver.Chrome(\"./chromedriver\")\n",
    "# Command to solve “chromedriver” cannot be opened because the developer cannot be verified\n",
    "# xattr -d com.apple.quarantine chromedriver\n",
    "web_driver.get(url)\n",
    "assert web_driver.title == 'ChromaXen'"
   ]
  },
  {
   "cell_type": "code",
   "execution_count": 203,
   "metadata": {},
   "outputs": [],
   "source": [
    "# 'New Game' button\n",
    "\n",
    "new_game_button = (\n",
    "    WebDriverWait(web_driver, WAIT_TIME)\n",
    "    .until(\n",
    "        EC.element_to_be_clickable(\n",
    "            (By.CSS_SELECTOR, 'div[id=\"entry_game_button\"]')\n",
    "        )\n",
    "    )\n",
    ")"
   ]
  },
  {
   "cell_type": "code",
   "execution_count": 204,
   "metadata": {},
   "outputs": [],
   "source": [
    "# All Rules button\n",
    "\n",
    "all_rules_button = (\n",
    "    WebDriverWait(web_driver, WAIT_TIME)\n",
    "    .until(\n",
    "        EC.element_to_be_clickable(\n",
    "            (By.CSS_SELECTOR, 'div[id=\"entry_all_rules_button\"]')\n",
    "        )\n",
    "    )\n",
    ")"
   ]
  },
  {
   "cell_type": "code",
   "execution_count": 205,
   "metadata": {},
   "outputs": [],
   "source": [
    "# Random button\n",
    "\n",
    "random_button = (\n",
    "    WebDriverWait(web_driver, WAIT_TIME)\n",
    "    .until(\n",
    "        EC.element_to_be_clickable(\n",
    "            (By.CSS_SELECTOR, 'div[id=\"entry_random_button\"]')\n",
    "        )\n",
    "    )\n",
    ")"
   ]
  },
  {
   "cell_type": "code",
   "execution_count": 206,
   "metadata": {},
   "outputs": [],
   "source": [
    "new_game_button.click()"
   ]
  },
  {
   "cell_type": "code",
   "execution_count": 207,
   "metadata": {},
   "outputs": [],
   "source": [
    "# Advance button\n",
    "\n",
    "advance_button = (\n",
    "    WebDriverWait(web_driver, WAIT_TIME)\n",
    "    .until(\n",
    "        EC.element_to_be_clickable(\n",
    "            (By.CSS_SELECTOR, 'div[id=\"update_button\"]')\n",
    "        )\n",
    "    )\n",
    ")"
   ]
  },
  {
   "cell_type": "code",
   "execution_count": 208,
   "metadata": {},
   "outputs": [],
   "source": [
    "# Retreat button\n",
    "\n",
    "retreat_button = (\n",
    "    WebDriverWait(web_driver, WAIT_TIME)\n",
    "    .until(\n",
    "        EC.element_to_be_clickable(\n",
    "            (By.CSS_SELECTOR, 'div[id=\"retreat_button\"]')\n",
    "        )\n",
    "    )\n",
    ")"
   ]
  },
  {
   "cell_type": "code",
   "execution_count": 209,
   "metadata": {},
   "outputs": [],
   "source": [
    "# Reset button\n",
    "\n",
    "reset_button = (\n",
    "    WebDriverWait(web_driver, WAIT_TIME)\n",
    "    .until(\n",
    "        EC.element_to_be_clickable(\n",
    "            (By.CSS_SELECTOR, 'div[id=\"reset_button\"]')\n",
    "        )\n",
    "    )\n",
    ")"
   ]
  },
  {
   "cell_type": "code",
   "execution_count": 210,
   "metadata": {},
   "outputs": [],
   "source": [
    "# (back to) Menu button\n",
    "\n",
    "menu_button = (\n",
    "    WebDriverWait(web_driver, WAIT_TIME)\n",
    "    .until(\n",
    "        EC.element_to_be_clickable(\n",
    "            (By.CSS_SELECTOR, 'div[id=\"back_to_menu\"]')\n",
    "        )\n",
    "    )\n",
    ")"
   ]
  },
  {
   "cell_type": "code",
   "execution_count": 211,
   "metadata": {},
   "outputs": [],
   "source": [
    "# Next Level button\n",
    "\n",
    "next_level_button = (\n",
    "    WebDriverWait(web_driver, WAIT_TIME)\n",
    "    .until(\n",
    "        EC.element_to_be_clickable(\n",
    "            (By.CSS_SELECTOR, 'div[id=\"next_button\"]')\n",
    "        )\n",
    "    )\n",
    ")"
   ]
  },
  {
   "cell_type": "code",
   "execution_count": 212,
   "metadata": {},
   "outputs": [],
   "source": [
    "def drag_and_drop_by_row(driver, from_row, to_row):\n",
    "    from_row_id = f\"label_{from_row -1}\"\n",
    "    to_row_id = f\"label_{to_row -1}\"\n",
    "\n",
    "    source_element = driver.find_element_by_id(from_row_id)\n",
    "    target_element = driver.find_element_by_id(to_row_id)\n",
    "\n",
    "    actions = ActionChains(driver)\n",
    "    actions.drag_and_drop(source_element, target_element).perform()\n",
    "\n"
   ]
  },
  {
   "cell_type": "code",
   "execution_count": 213,
   "metadata": {},
   "outputs": [],
   "source": [
    "# Game 1 solution\n",
    "\n",
    "# 1) 45 solves row 4\n",
    "drag_and_drop_by_row(web_driver, 8, 4)\n"
   ]
  },
  {
   "cell_type": "code",
   "execution_count": 214,
   "metadata": {},
   "outputs": [],
   "source": [
    "\n",
    "# 2) 103 solves row 6\n",
    "drag_and_drop_by_row(web_driver, 5, 6)\n"
   ]
  },
  {
   "cell_type": "code",
   "execution_count": 215,
   "metadata": {},
   "outputs": [],
   "source": [
    "\n",
    "# 3) 45 solves row 5\n",
    "drag_and_drop_by_row(web_driver, 8, 5)\n",
    "\n"
   ]
  },
  {
   "cell_type": "code",
   "execution_count": 216,
   "metadata": {},
   "outputs": [],
   "source": [
    "\n",
    "# 4) row 2: 53 (step 1):  \n",
    "drag_and_drop_by_row(web_driver, 3, 2)\n",
    "\n"
   ]
  },
  {
   "cell_type": "code",
   "execution_count": 217,
   "metadata": {},
   "outputs": [],
   "source": [
    "\n",
    "# 5) row 8: rule 222 (step 1): \n",
    "drag_and_drop_by_row(web_driver, 7, 8)\n",
    "\n"
   ]
  },
  {
   "cell_type": "code",
   "execution_count": 218,
   "metadata": {},
   "outputs": [],
   "source": [
    "\n",
    "# 6) 53 solves row 7\n",
    "drag_and_drop_by_row(web_driver, 3, 7)\n"
   ]
  },
  {
   "cell_type": "code",
   "execution_count": 219,
   "metadata": {},
   "outputs": [],
   "source": [
    "\n",
    "# 7) 103 solves row 3\n",
    "drag_and_drop_by_row(web_driver, 6, 3)\n"
   ]
  },
  {
   "cell_type": "code",
   "execution_count": 220,
   "metadata": {},
   "outputs": [],
   "source": [
    "\n",
    "# 8) row 8: step 3 any rule but 222 (solves)\n",
    "\n",
    "advance_button.click()\n",
    "sleep(SLEEP_TIME)\n",
    "advance_button.click()\n",
    "sleep(SLEEP_TIME)\n",
    "drag_and_drop_by_row(web_driver, 7, 8)\n"
   ]
  },
  {
   "cell_type": "code",
   "execution_count": 221,
   "metadata": {},
   "outputs": [],
   "source": [
    "\n",
    "# 9) row 2: 45 step 4\n",
    "\n",
    "advance_button.click()\n",
    "sleep(SLEEP_TIME)\n",
    "drag_and_drop_by_row(web_driver, 4, 2)\n",
    "\n"
   ]
  },
  {
   "cell_type": "code",
   "execution_count": 222,
   "metadata": {},
   "outputs": [],
   "source": [
    "# Solve button\n",
    "\n",
    "solve_button = (\n",
    "    WebDriverWait(web_driver, WAIT_TIME)\n",
    "    .until(\n",
    "        EC.element_to_be_clickable(\n",
    "            (By.CSS_SELECTOR, 'div[id=\"solve_button\"]')\n",
    "        )\n",
    "    )\n",
    ")\n",
    "\n",
    "solve_button.click()\n"
   ]
  },
  {
   "cell_type": "code",
   "execution_count": 223,
   "metadata": {},
   "outputs": [],
   "source": [
    "# web_driver.quit()"
   ]
  },
  {
   "cell_type": "code",
   "execution_count": 234,
   "metadata": {},
   "outputs": [],
   "source": [
    "# Game 2 solution (14 moves):\n"
   ]
  },
  {
   "cell_type": "code",
   "execution_count": 235,
   "metadata": {},
   "outputs": [],
   "source": [
    "# 1. 115 solves row 3 \n",
    "\n",
    "drag_and_drop_by_row(web_driver, 1, 3)"
   ]
  },
  {
   "cell_type": "code",
   "execution_count": 236,
   "metadata": {},
   "outputs": [],
   "source": [
    "# 2. row 4: 75 step 1:\n",
    "\n",
    "drag_and_drop_by_row(web_driver, 2, 4)"
   ]
  },
  {
   "cell_type": "code",
   "execution_count": 237,
   "metadata": {},
   "outputs": [],
   "source": [
    "# 3. 115 solves row 2\n",
    "\n",
    "drag_and_drop_by_row(web_driver, 3, 2)"
   ]
  },
  {
   "cell_type": "code",
   "execution_count": 238,
   "metadata": {},
   "outputs": [],
   "source": [
    "# 4. 227 solves row 5\n",
    "\n",
    "drag_and_drop_by_row(web_driver, 7, 5)"
   ]
  },
  {
   "cell_type": "code",
   "execution_count": 239,
   "metadata": {},
   "outputs": [],
   "source": [
    "# 5. 31 solves row 6\n",
    "\n",
    "drag_and_drop_by_row(web_driver, 8, 6)\n"
   ]
  },
  {
   "cell_type": "code",
   "execution_count": 240,
   "metadata": {},
   "outputs": [],
   "source": [
    "# 6. 31 solves row 7\n",
    "\n",
    "drag_and_drop_by_row(web_driver, 8, 7)\n",
    "\n"
   ]
  },
  {
   "cell_type": "code",
   "execution_count": 241,
   "metadata": {},
   "outputs": [],
   "source": [
    "# 7. row 1: 75 step 4 (solves)\n",
    "\n",
    "advance_button.click()\n",
    "sleep(SLEEP_TIME)\n",
    "advance_button.click()\n",
    "sleep(SLEEP_TIME)\n",
    "advance_button.click()\n",
    "sleep(SLEEP_TIME)\n",
    "drag_and_drop_by_row(web_driver, 4, 1)"
   ]
  },
  {
   "cell_type": "code",
   "execution_count": 242,
   "metadata": {},
   "outputs": [],
   "source": [
    "# 8. row 4: 31 step 6\n",
    "advance_button.click()\n",
    "sleep(SLEEP_TIME)\n",
    "advance_button.click()\n",
    "sleep(SLEEP_TIME)\n",
    "drag_and_drop_by_row(web_driver, 6, 4)\n",
    "\n"
   ]
  },
  {
   "cell_type": "code",
   "execution_count": 243,
   "metadata": {},
   "outputs": [],
   "source": [
    "# 9. row 4: 75 step 7 (solves)\n",
    "advance_button.click()\n",
    "sleep(SLEEP_TIME)\n",
    "drag_and_drop_by_row(web_driver, 1, 4)\n",
    "\n",
    "\n"
   ]
  },
  {
   "cell_type": "code",
   "execution_count": 244,
   "metadata": {},
   "outputs": [],
   "source": [
    "# Solve button\n",
    "\n",
    "solve_button = (\n",
    "    WebDriverWait(web_driver, WAIT_TIME)\n",
    "    .until(\n",
    "        EC.element_to_be_clickable(\n",
    "            (By.CSS_SELECTOR, 'div[id=\"solve_button\"]')\n",
    "        )\n",
    "    )\n",
    ")\n",
    "\n",
    "solve_button.click()\n"
   ]
  },
  {
   "cell_type": "code",
   "execution_count": 245,
   "metadata": {},
   "outputs": [],
   "source": [
    "web_driver.quit()"
   ]
  },
  {
   "cell_type": "code",
   "execution_count": null,
   "metadata": {},
   "outputs": [],
   "source": []
  }
 ],
 "metadata": {
  "kernelspec": {
   "display_name": "base",
   "language": "python",
   "name": "python3"
  },
  "language_info": {
   "codemirror_mode": {
    "name": "ipython",
    "version": 3
   },
   "file_extension": ".py",
   "mimetype": "text/x-python",
   "name": "python",
   "nbconvert_exporter": "python",
   "pygments_lexer": "ipython3",
   "version": "3.7.15"
  }
 },
 "nbformat": 4,
 "nbformat_minor": 2
}
